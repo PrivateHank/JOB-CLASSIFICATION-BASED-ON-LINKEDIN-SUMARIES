{
 "cells": [
  {
   "cell_type": "markdown",
   "metadata": {},
   "source": [
    "# Importing libraries"
   ]
  },
  {
   "cell_type": "code",
   "execution_count": 38,
   "metadata": {},
   "outputs": [],
   "source": [
    "import pandas as pd\n",
    "import re\n",
    "from sklearn.feature_selection import chi2\n",
    "import numpy as np\n",
    "import matplotlib.pyplot as plt\n",
    "import string\n",
    "import nltk\n",
    "from nltk.corpus import stopwords\n",
    "from nltk.tokenize import word_tokenize\n",
    "from sklearn.feature_extraction.text import TfidfVectorizer\n",
    "from sklearn.model_selection import train_test_split\n",
    "from sklearn.feature_extraction.text import CountVectorizer\n",
    "from sklearn.feature_extraction.text import TfidfTransformer\n",
    "from sklearn.naive_bayes import MultinomialNB\n",
    "from sklearn.metrics import accuracy_score\n",
    "from sklearn.svm import SVC\n",
    "from sklearn.neighbors import KNeighborsClassifier\n",
    "from sklearn.naive_bayes import GaussianNB\n",
    "from sklearn.ensemble import RandomForestClassifier as rm\n",
    "from sklearn.tree import DecisionTreeClassifier \n",
    "from sklearn.linear_model import SGDClassifier\n",
    "from sklearn.neural_network import MLPClassifier\n",
    "from sklearn.gaussian_process import GaussianProcessClassifier\n",
    "from sklearn.linear_model import LogisticRegression\n",
    "from sklearn.ensemble import RandomForestClassifier\n",
    "from sklearn.svm import LinearSVC\n",
    "from sklearn.model_selection import cross_val_score\n",
    "from sklearn.model_selection import StratifiedKFold\n",
    "import warnings \n",
    "warnings.filterwarnings(\"ignore\", category=DeprecationWarning)"
   ]
  },
  {
   "cell_type": "markdown",
   "metadata": {},
   "source": [
    "# Data Exploration"
   ]
  },
  {
   "cell_type": "code",
   "execution_count": 2,
   "metadata": {},
   "outputs": [
    {
     "data": {
      "text/html": [
       "<div>\n",
       "<style scoped>\n",
       "    .dataframe tbody tr th:only-of-type {\n",
       "        vertical-align: middle;\n",
       "    }\n",
       "\n",
       "    .dataframe tbody tr th {\n",
       "        vertical-align: top;\n",
       "    }\n",
       "\n",
       "    .dataframe thead th {\n",
       "        text-align: right;\n",
       "    }\n",
       "</style>\n",
       "<table border=\"1\" class=\"dataframe\">\n",
       "  <thead>\n",
       "    <tr style=\"text-align: right;\">\n",
       "      <th></th>\n",
       "      <th>index</th>\n",
       "      <th>category</th>\n",
       "      <th>linkedin</th>\n",
       "      <th>profile_picture</th>\n",
       "      <th>description</th>\n",
       "      <th>Experience</th>\n",
       "      <th>Name</th>\n",
       "      <th>position</th>\n",
       "      <th>location</th>\n",
       "      <th>skills</th>\n",
       "      <th>clean_skills</th>\n",
       "    </tr>\n",
       "  </thead>\n",
       "  <tbody>\n",
       "    <tr>\n",
       "      <td>0</td>\n",
       "      <td>1</td>\n",
       "      <td>HR</td>\n",
       "      <td>https://in.linkedin.com/in/sameer-wadhawan-b55...</td>\n",
       "      <td>https://media-exp1.licdn.com/dms/image/C5603AQ...</td>\n",
       "      <td>An experienced HR professional,  HR mentor and...</td>\n",
       "      <td>Senior Vice President &amp; Head of HRCompany Name...</td>\n",
       "      <td>Sameer Wadhawan</td>\n",
       "      <td>Senior Vice President and Head of HR- Samsung ...</td>\n",
       "      <td>Gurgaon, Haryana, India</td>\n",
       "      <td>['\\nPerformance Management\\n', '\\nHuman Resour...</td>\n",
       "      <td>['Performance Management', 'Human Resources', ...</td>\n",
       "    </tr>\n",
       "    <tr>\n",
       "      <td>1</td>\n",
       "      <td>2</td>\n",
       "      <td>HR</td>\n",
       "      <td>https://in.linkedin.com/in/adarsh-krishna-a4ab0a5</td>\n",
       "      <td>https://media-exp1.licdn.com/dms/image/C5103AQ...</td>\n",
       "      <td>Head Talent Acquisition, HR Leader and Strateg...</td>\n",
       "      <td>Head of Talent Acquisition - India &amp; APAC and ...</td>\n",
       "      <td>Adarsh Krishna</td>\n",
       "      <td>Head Talent Acquisition and HR Leader for Heal...</td>\n",
       "      <td>Pune, Maharashtra, India</td>\n",
       "      <td>['\\nTalent Acquisition\\n', '\\nEmployee Engagem...</td>\n",
       "      <td>['Talent Acquisition', 'Employee Engagement', ...</td>\n",
       "    </tr>\n",
       "    <tr>\n",
       "      <td>2</td>\n",
       "      <td>3</td>\n",
       "      <td>HR</td>\n",
       "      <td>https://in.linkedin.com/in/shrivas-mohit</td>\n",
       "      <td>data:image/gif;base64,R0lGODlhAQABAIAAAAAAAP//...</td>\n",
       "      <td>A Talent Acquisition and HR professional with ...</td>\n",
       "      <td>Company NameIBM INDIA Pvt LtdTotal Duration8 y...</td>\n",
       "      <td>Shrivas Mohit</td>\n",
       "      <td>HR@IBM</td>\n",
       "      <td>Bengaluru, Karnataka, India</td>\n",
       "      <td>['\\nHuman Resources\\n', '\\nRecruiting\\n', '\\nT...</td>\n",
       "      <td>['Human Resources', 'Recruiting', 'Team Manage...</td>\n",
       "    </tr>\n",
       "  </tbody>\n",
       "</table>\n",
       "</div>"
      ],
      "text/plain": [
       "   index category                                           linkedin  \\\n",
       "0      1       HR  https://in.linkedin.com/in/sameer-wadhawan-b55...   \n",
       "1      2       HR  https://in.linkedin.com/in/adarsh-krishna-a4ab0a5   \n",
       "2      3       HR           https://in.linkedin.com/in/shrivas-mohit   \n",
       "\n",
       "                                     profile_picture  \\\n",
       "0  https://media-exp1.licdn.com/dms/image/C5603AQ...   \n",
       "1  https://media-exp1.licdn.com/dms/image/C5103AQ...   \n",
       "2  data:image/gif;base64,R0lGODlhAQABAIAAAAAAAP//...   \n",
       "\n",
       "                                         description  \\\n",
       "0  An experienced HR professional,  HR mentor and...   \n",
       "1  Head Talent Acquisition, HR Leader and Strateg...   \n",
       "2  A Talent Acquisition and HR professional with ...   \n",
       "\n",
       "                                          Experience             Name  \\\n",
       "0  Senior Vice President & Head of HRCompany Name...  Sameer Wadhawan   \n",
       "1  Head of Talent Acquisition - India & APAC and ...   Adarsh Krishna   \n",
       "2  Company NameIBM INDIA Pvt LtdTotal Duration8 y...    Shrivas Mohit   \n",
       "\n",
       "                                            position  \\\n",
       "0  Senior Vice President and Head of HR- Samsung ...   \n",
       "1  Head Talent Acquisition and HR Leader for Heal...   \n",
       "2                                             HR@IBM   \n",
       "\n",
       "                      location  \\\n",
       "0      Gurgaon, Haryana, India   \n",
       "1     Pune, Maharashtra, India   \n",
       "2  Bengaluru, Karnataka, India   \n",
       "\n",
       "                                              skills  \\\n",
       "0  ['\\nPerformance Management\\n', '\\nHuman Resour...   \n",
       "1  ['\\nTalent Acquisition\\n', '\\nEmployee Engagem...   \n",
       "2  ['\\nHuman Resources\\n', '\\nRecruiting\\n', '\\nT...   \n",
       "\n",
       "                                        clean_skills  \n",
       "0  ['Performance Management', 'Human Resources', ...  \n",
       "1  ['Talent Acquisition', 'Employee Engagement', ...  \n",
       "2  ['Human Resources', 'Recruiting', 'Team Manage...  "
      ]
     },
     "execution_count": 2,
     "metadata": {},
     "output_type": "execute_result"
    }
   ],
   "source": [
    "data = pd.read_csv(\"linkedin.csv\")\n",
    "data.head(3)"
   ]
  },
  {
   "cell_type": "code",
   "execution_count": 3,
   "metadata": {},
   "outputs": [
    {
     "data": {
      "text/html": [
       "<div>\n",
       "<style scoped>\n",
       "    .dataframe tbody tr th:only-of-type {\n",
       "        vertical-align: middle;\n",
       "    }\n",
       "\n",
       "    .dataframe tbody tr th {\n",
       "        vertical-align: top;\n",
       "    }\n",
       "\n",
       "    .dataframe thead th {\n",
       "        text-align: right;\n",
       "    }\n",
       "</style>\n",
       "<table border=\"1\" class=\"dataframe\">\n",
       "  <thead>\n",
       "    <tr style=\"text-align: right;\">\n",
       "      <th></th>\n",
       "      <th>description</th>\n",
       "      <th>category</th>\n",
       "    </tr>\n",
       "  </thead>\n",
       "  <tbody>\n",
       "    <tr>\n",
       "      <td>0</td>\n",
       "      <td>An experienced HR professional,  HR mentor and...</td>\n",
       "      <td>HR</td>\n",
       "    </tr>\n",
       "    <tr>\n",
       "      <td>1</td>\n",
       "      <td>Head Talent Acquisition, HR Leader and Strateg...</td>\n",
       "      <td>HR</td>\n",
       "    </tr>\n",
       "    <tr>\n",
       "      <td>2</td>\n",
       "      <td>A Talent Acquisition and HR professional with ...</td>\n",
       "      <td>HR</td>\n",
       "    </tr>\n",
       "  </tbody>\n",
       "</table>\n",
       "</div>"
      ],
      "text/plain": [
       "                                         description category\n",
       "0  An experienced HR professional,  HR mentor and...       HR\n",
       "1  Head Talent Acquisition, HR Leader and Strateg...       HR\n",
       "2  A Talent Acquisition and HR professional with ...       HR"
      ]
     },
     "execution_count": 3,
     "metadata": {},
     "output_type": "execute_result"
    }
   ],
   "source": [
    "# Extracting useful data\n",
    "\n",
    "data = data[['description','category']]\n",
    "data.head(3)"
   ]
  },
  {
   "cell_type": "code",
   "execution_count": 4,
   "metadata": {},
   "outputs": [
    {
     "data": {
      "text/plain": [
       "description    581\n",
       "category         0\n",
       "dtype: int64"
      ]
     },
     "execution_count": 4,
     "metadata": {},
     "output_type": "execute_result"
    }
   ],
   "source": [
    "# checking null values in the dataset\n",
    "data.isna().sum()"
   ]
  },
  {
   "cell_type": "code",
   "execution_count": 5,
   "metadata": {},
   "outputs": [],
   "source": [
    "# removing the null values in the dataset\n",
    "data1 = data.dropna()"
   ]
  },
  {
   "cell_type": "code",
   "execution_count": 6,
   "metadata": {},
   "outputs": [
    {
     "data": {
      "text/plain": [
       "25"
      ]
     },
     "execution_count": 6,
     "metadata": {},
     "output_type": "execute_result"
    }
   ],
   "source": [
    "# finding total no. of categories\n",
    "len(data1.category.unique())"
   ]
  },
  {
   "cell_type": "code",
   "execution_count": 7,
   "metadata": {},
   "outputs": [
    {
     "data": {
      "text/html": [
       "<div>\n",
       "<style scoped>\n",
       "    .dataframe tbody tr th:only-of-type {\n",
       "        vertical-align: middle;\n",
       "    }\n",
       "\n",
       "    .dataframe tbody tr th {\n",
       "        vertical-align: top;\n",
       "    }\n",
       "\n",
       "    .dataframe thead th {\n",
       "        text-align: right;\n",
       "    }\n",
       "</style>\n",
       "<table border=\"1\" class=\"dataframe\">\n",
       "  <thead>\n",
       "    <tr style=\"text-align: right;\">\n",
       "      <th></th>\n",
       "      <th>description</th>\n",
       "      <th>category</th>\n",
       "    </tr>\n",
       "  </thead>\n",
       "  <tbody>\n",
       "    <tr>\n",
       "      <td>0</td>\n",
       "      <td>An experienced HR professional,  HR mentor and...</td>\n",
       "      <td>HR</td>\n",
       "    </tr>\n",
       "    <tr>\n",
       "      <td>1</td>\n",
       "      <td>Head Talent Acquisition, HR Leader and Strateg...</td>\n",
       "      <td>HR</td>\n",
       "    </tr>\n",
       "    <tr>\n",
       "      <td>2</td>\n",
       "      <td>A Talent Acquisition and HR professional with ...</td>\n",
       "      <td>HR</td>\n",
       "    </tr>\n",
       "  </tbody>\n",
       "</table>\n",
       "</div>"
      ],
      "text/plain": [
       "                                         description category\n",
       "0  An experienced HR professional,  HR mentor and...       HR\n",
       "1  Head Talent Acquisition, HR Leader and Strateg...       HR\n",
       "2  A Talent Acquisition and HR professional with ...       HR"
      ]
     },
     "execution_count": 7,
     "metadata": {},
     "output_type": "execute_result"
    }
   ],
   "source": [
    "# taking a look at the dataset\n",
    "data1.head(3)"
   ]
  },
  {
   "cell_type": "code",
   "execution_count": 8,
   "metadata": {},
   "outputs": [
    {
     "data": {
      "text/plain": [
       "description    0\n",
       "category       0\n",
       "dtype: int64"
      ]
     },
     "execution_count": 8,
     "metadata": {},
     "output_type": "execute_result"
    }
   ],
   "source": [
    "# checking null values again\n",
    "data1.isna().sum()"
   ]
  },
  {
   "cell_type": "code",
   "execution_count": 9,
   "metadata": {},
   "outputs": [
    {
     "data": {
      "text/plain": [
       "670"
      ]
     },
     "execution_count": 9,
     "metadata": {},
     "output_type": "execute_result"
    }
   ],
   "source": [
    "# checking total no. of instances in the dataset\n",
    "len(data1)"
   ]
  },
  {
   "cell_type": "code",
   "execution_count": 10,
   "metadata": {},
   "outputs": [
    {
     "data": {
      "text/plain": [
       "Public Relations           41\n",
       "Health & Fitness           40\n",
       "Digital Media              38\n",
       "Business Development       36\n",
       "Consultant                 36\n",
       "Engineering                36\n",
       "Sales                      35\n",
       "HR                         34\n",
       "Food & Beverages           28\n",
       "Information Technology     28\n",
       "Accountant                 27\n",
       "Banking                    26\n",
       "Advocate                   25\n",
       "Building & Construction    25\n",
       "Education                  24\n",
       "Designing                  23\n",
       "Aviation                   23\n",
       "Agricultural               22\n",
       "Finance                    21\n",
       "Arts                       20\n",
       "Apparel                    19\n",
       "Architects                 19\n",
       "Managment                  17\n",
       "Automobile                 14\n",
       "BPO                        13\n",
       "Name: category, dtype: int64"
      ]
     },
     "execution_count": 10,
     "metadata": {},
     "output_type": "execute_result"
    }
   ],
   "source": [
    "# checking frequency of each category in the data\n",
    "data1.category.value_counts()"
   ]
  },
  {
   "cell_type": "code",
   "execution_count": 11,
   "metadata": {},
   "outputs": [
    {
     "data": {
      "image/png": "[encoded data removed]",
      "text/plain": [
       "<Figure size 900x600 with 1 Axes>"
      ]
     },
     "metadata": {
      "needs_background": "light"
     },
     "output_type": "display_data"
    }
   ],
   "source": [
    "# plotting frequencies of job categories\n",
    "plt.figure(dpi=150)\n",
    "data1.category.value_counts().plot(kind = 'bar', color = 'red', alpha = 0.6)\n",
    "plt.title('Total frequency of each category in the data')\n",
    "plt.show()"
   ]
  },
  {
   "cell_type": "code",
   "execution_count": 12,
   "metadata": {},
   "outputs": [],
   "source": [
    "# helper function to clean the text in the data\n",
    "def preprocess_text(text):\n",
    "    text.lower()\n",
    "    # Remove urls\n",
    "    text = re.sub(r\"http\\S+|www\\S+|https\\S+\", '', text, flags=re.MULTILINE)\n",
    "    # Remove user @ references and '#' from text\n",
    "    text = re.sub(r'\\@\\w+|\\#','', text)\n",
    "    # Remove punctuations\n",
    "    text = text.translate(str.maketrans('', '', string.punctuation))\n",
    "    # Remove stopwords\n",
    "    text_tokens = word_tokenize(text)\n",
    "    filtered_words = [w for w in text_tokens if not w in stop_words]\n",
    "    return \" \".join(filtered_words).lower()"
   ]
  },
  {
   "cell_type": "code",
   "execution_count": 13,
   "metadata": {},
   "outputs": [
    {
     "data": {
      "text/plain": [
       "'An experienced HR professional,  HR mentor and Coach , Talent advisory and HR strategist... see more'"
      ]
     },
     "execution_count": 13,
     "metadata": {},
     "output_type": "execute_result"
    }
   ],
   "source": [
    "# having a look at the first job description\n",
    "data1['description'][0]"
   ]
  },
  {
   "cell_type": "code",
   "execution_count": 15,
   "metadata": {},
   "outputs": [],
   "source": [
    "stop_words = stopwords.words('english')"
   ]
  },
  {
   "cell_type": "code",
   "execution_count": 16,
   "metadata": {},
   "outputs": [
    {
     "data": {
      "text/plain": [
       "'an experienced hr professional hr mentor coach talent advisory hr strategist see'"
      ]
     },
     "execution_count": 16,
     "metadata": {},
     "output_type": "execute_result"
    }
   ],
   "source": [
    "# after applying cleaning\n",
    "preprocess_text(data1['description'][0])"
   ]
  },
  {
   "cell_type": "code",
   "execution_count": 17,
   "metadata": {},
   "outputs": [
    {
     "name": "stderr",
     "output_type": "stream",
     "text": [
      "C:\\ProgramData\\Anaconda3\\lib\\site-packages\\ipykernel_launcher.py:2: SettingWithCopyWarning: \n",
      "A value is trying to be set on a copy of a slice from a DataFrame.\n",
      "Try using .loc[row_indexer,col_indexer] = value instead\n",
      "\n",
      "See the caveats in the documentation: http://pandas.pydata.org/pandas-docs/stable/user_guide/indexing.html#returning-a-view-versus-a-copy\n",
      "  \n"
     ]
    },
    {
     "data": {
      "text/html": [
       "<div>\n",
       "<style scoped>\n",
       "    .dataframe tbody tr th:only-of-type {\n",
       "        vertical-align: middle;\n",
       "    }\n",
       "\n",
       "    .dataframe tbody tr th {\n",
       "        vertical-align: top;\n",
       "    }\n",
       "\n",
       "    .dataframe thead th {\n",
       "        text-align: right;\n",
       "    }\n",
       "</style>\n",
       "<table border=\"1\" class=\"dataframe\">\n",
       "  <thead>\n",
       "    <tr style=\"text-align: right;\">\n",
       "      <th></th>\n",
       "      <th>description</th>\n",
       "      <th>category</th>\n",
       "      <th>perprocessed</th>\n",
       "    </tr>\n",
       "  </thead>\n",
       "  <tbody>\n",
       "    <tr>\n",
       "      <td>0</td>\n",
       "      <td>An experienced HR professional,  HR mentor and...</td>\n",
       "      <td>HR</td>\n",
       "      <td>an experienced hr professional hr mentor coach...</td>\n",
       "    </tr>\n",
       "    <tr>\n",
       "      <td>1</td>\n",
       "      <td>Head Talent Acquisition, HR Leader and Strateg...</td>\n",
       "      <td>HR</td>\n",
       "      <td>head talent acquisition hr leader strategic pa...</td>\n",
       "    </tr>\n",
       "    <tr>\n",
       "      <td>2</td>\n",
       "      <td>A Talent Acquisition and HR professional with ...</td>\n",
       "      <td>HR</td>\n",
       "      <td>a talent acquisition hr professional experienc...</td>\n",
       "    </tr>\n",
       "  </tbody>\n",
       "</table>\n",
       "</div>"
      ],
      "text/plain": [
       "                                         description category  \\\n",
       "0  An experienced HR professional,  HR mentor and...       HR   \n",
       "1  Head Talent Acquisition, HR Leader and Strateg...       HR   \n",
       "2  A Talent Acquisition and HR professional with ...       HR   \n",
       "\n",
       "                                        perprocessed  \n",
       "0  an experienced hr professional hr mentor coach...  \n",
       "1  head talent acquisition hr leader strategic pa...  \n",
       "2  a talent acquisition hr professional experienc...  "
      ]
     },
     "execution_count": 17,
     "metadata": {},
     "output_type": "execute_result"
    }
   ],
   "source": [
    "# making a new column of clean text\n",
    "data1['perprocessed'] = data1['description'].apply(preprocess_text)\n",
    "data1.head(3)"
   ]
  },
  {
   "cell_type": "code",
   "execution_count": 18,
   "metadata": {},
   "outputs": [],
   "source": [
    "def lower_text(text):\n",
    "    return text.lower()"
   ]
  },
  {
   "cell_type": "code",
   "execution_count": 19,
   "metadata": {},
   "outputs": [
    {
     "data": {
      "text/plain": [
       "'HR'"
      ]
     },
     "execution_count": 19,
     "metadata": {},
     "output_type": "execute_result"
    }
   ],
   "source": [
    "data1['category'][0]"
   ]
  },
  {
   "cell_type": "code",
   "execution_count": 20,
   "metadata": {},
   "outputs": [
    {
     "data": {
      "text/plain": [
       "'hr'"
      ]
     },
     "execution_count": 20,
     "metadata": {},
     "output_type": "execute_result"
    }
   ],
   "source": [
    "lower_text(data1['category'][0])"
   ]
  },
  {
   "cell_type": "code",
   "execution_count": 21,
   "metadata": {},
   "outputs": [
    {
     "name": "stderr",
     "output_type": "stream",
     "text": [
      "C:\\ProgramData\\Anaconda3\\lib\\site-packages\\ipykernel_launcher.py:2: SettingWithCopyWarning: \n",
      "A value is trying to be set on a copy of a slice from a DataFrame.\n",
      "Try using .loc[row_indexer,col_indexer] = value instead\n",
      "\n",
      "See the caveats in the documentation: http://pandas.pydata.org/pandas-docs/stable/user_guide/indexing.html#returning-a-view-versus-a-copy\n",
      "  \n"
     ]
    },
    {
     "data": {
      "text/html": [
       "<div>\n",
       "<style scoped>\n",
       "    .dataframe tbody tr th:only-of-type {\n",
       "        vertical-align: middle;\n",
       "    }\n",
       "\n",
       "    .dataframe tbody tr th {\n",
       "        vertical-align: top;\n",
       "    }\n",
       "\n",
       "    .dataframe thead th {\n",
       "        text-align: right;\n",
       "    }\n",
       "</style>\n",
       "<table border=\"1\" class=\"dataframe\">\n",
       "  <thead>\n",
       "    <tr style=\"text-align: right;\">\n",
       "      <th></th>\n",
       "      <th>perprocessed</th>\n",
       "      <th>job_category</th>\n",
       "    </tr>\n",
       "  </thead>\n",
       "  <tbody>\n",
       "    <tr>\n",
       "      <td>0</td>\n",
       "      <td>an experienced hr professional hr mentor coach...</td>\n",
       "      <td>hr</td>\n",
       "    </tr>\n",
       "    <tr>\n",
       "      <td>1</td>\n",
       "      <td>head talent acquisition hr leader strategic pa...</td>\n",
       "      <td>hr</td>\n",
       "    </tr>\n",
       "    <tr>\n",
       "      <td>2</td>\n",
       "      <td>a talent acquisition hr professional experienc...</td>\n",
       "      <td>hr</td>\n",
       "    </tr>\n",
       "  </tbody>\n",
       "</table>\n",
       "</div>"
      ],
      "text/plain": [
       "                                        perprocessed job_category\n",
       "0  an experienced hr professional hr mentor coach...           hr\n",
       "1  head talent acquisition hr leader strategic pa...           hr\n",
       "2  a talent acquisition hr professional experienc...           hr"
      ]
     },
     "execution_count": 21,
     "metadata": {},
     "output_type": "execute_result"
    }
   ],
   "source": [
    "# converting uppercase to lowercase of job category \n",
    "data1['job_category'] = data1['category'].apply(lower_text)\n",
    "data1 = data1[['perprocessed','job_category']]\n",
    "data1.head(3)"
   ]
  },
  {
   "cell_type": "code",
   "execution_count": 22,
   "metadata": {},
   "outputs": [],
   "source": [
    "# saving cleaned data to csv\n",
    "data1.to_csv('preprocessed_data.csv',index=False)"
   ]
  },
  {
   "cell_type": "markdown",
   "metadata": {},
   "source": [
    "# importing cleaned csv"
   ]
  },
  {
   "cell_type": "code",
   "execution_count": 23,
   "metadata": {},
   "outputs": [
    {
     "data": {
      "text/html": [
       "<div>\n",
       "<style scoped>\n",
       "    .dataframe tbody tr th:only-of-type {\n",
       "        vertical-align: middle;\n",
       "    }\n",
       "\n",
       "    .dataframe tbody tr th {\n",
       "        vertical-align: top;\n",
       "    }\n",
       "\n",
       "    .dataframe thead th {\n",
       "        text-align: right;\n",
       "    }\n",
       "</style>\n",
       "<table border=\"1\" class=\"dataframe\">\n",
       "  <thead>\n",
       "    <tr style=\"text-align: right;\">\n",
       "      <th></th>\n",
       "      <th>perprocessed</th>\n",
       "      <th>job_category</th>\n",
       "    </tr>\n",
       "  </thead>\n",
       "  <tbody>\n",
       "    <tr>\n",
       "      <td>0</td>\n",
       "      <td>an experienced hr professional hr mentor coach...</td>\n",
       "      <td>hr</td>\n",
       "    </tr>\n",
       "    <tr>\n",
       "      <td>1</td>\n",
       "      <td>head talent acquisition hr leader strategic pa...</td>\n",
       "      <td>hr</td>\n",
       "    </tr>\n",
       "    <tr>\n",
       "      <td>2</td>\n",
       "      <td>a talent acquisition hr professional experienc...</td>\n",
       "      <td>hr</td>\n",
       "    </tr>\n",
       "    <tr>\n",
       "      <td>3</td>\n",
       "      <td>over 18 years experience it ites bpo leading g...</td>\n",
       "      <td>hr</td>\n",
       "    </tr>\n",
       "    <tr>\n",
       "      <td>4</td>\n",
       "      <td>human resources business partner demonstrated ...</td>\n",
       "      <td>hr</td>\n",
       "    </tr>\n",
       "  </tbody>\n",
       "</table>\n",
       "</div>"
      ],
      "text/plain": [
       "                                        perprocessed job_category\n",
       "0  an experienced hr professional hr mentor coach...           hr\n",
       "1  head talent acquisition hr leader strategic pa...           hr\n",
       "2  a talent acquisition hr professional experienc...           hr\n",
       "3  over 18 years experience it ites bpo leading g...           hr\n",
       "4  human resources business partner demonstrated ...           hr"
      ]
     },
     "execution_count": 23,
     "metadata": {},
     "output_type": "execute_result"
    }
   ],
   "source": [
    "df = pd.read_csv('preprocessed_data.csv')\n",
    "df.head()"
   ]
  },
  {
   "cell_type": "code",
   "execution_count": 24,
   "metadata": {},
   "outputs": [
    {
     "data": {
      "text/html": [
       "<div>\n",
       "<style scoped>\n",
       "    .dataframe tbody tr th:only-of-type {\n",
       "        vertical-align: middle;\n",
       "    }\n",
       "\n",
       "    .dataframe tbody tr th {\n",
       "        vertical-align: top;\n",
       "    }\n",
       "\n",
       "    .dataframe thead th {\n",
       "        text-align: right;\n",
       "    }\n",
       "</style>\n",
       "<table border=\"1\" class=\"dataframe\">\n",
       "  <thead>\n",
       "    <tr style=\"text-align: right;\">\n",
       "      <th></th>\n",
       "      <th>perprocessed</th>\n",
       "      <th>job_category</th>\n",
       "      <th>category_id</th>\n",
       "    </tr>\n",
       "  </thead>\n",
       "  <tbody>\n",
       "    <tr>\n",
       "      <td>0</td>\n",
       "      <td>an experienced hr professional hr mentor coach...</td>\n",
       "      <td>hr</td>\n",
       "      <td>0</td>\n",
       "    </tr>\n",
       "    <tr>\n",
       "      <td>1</td>\n",
       "      <td>head talent acquisition hr leader strategic pa...</td>\n",
       "      <td>hr</td>\n",
       "      <td>0</td>\n",
       "    </tr>\n",
       "    <tr>\n",
       "      <td>2</td>\n",
       "      <td>a talent acquisition hr professional experienc...</td>\n",
       "      <td>hr</td>\n",
       "      <td>0</td>\n",
       "    </tr>\n",
       "    <tr>\n",
       "      <td>3</td>\n",
       "      <td>over 18 years experience it ites bpo leading g...</td>\n",
       "      <td>hr</td>\n",
       "      <td>0</td>\n",
       "    </tr>\n",
       "    <tr>\n",
       "      <td>4</td>\n",
       "      <td>human resources business partner demonstrated ...</td>\n",
       "      <td>hr</td>\n",
       "      <td>0</td>\n",
       "    </tr>\n",
       "  </tbody>\n",
       "</table>\n",
       "</div>"
      ],
      "text/plain": [
       "                                        perprocessed job_category  category_id\n",
       "0  an experienced hr professional hr mentor coach...           hr            0\n",
       "1  head talent acquisition hr leader strategic pa...           hr            0\n",
       "2  a talent acquisition hr professional experienc...           hr            0\n",
       "3  over 18 years experience it ites bpo leading g...           hr            0\n",
       "4  human resources business partner demonstrated ...           hr            0"
      ]
     },
     "execution_count": 24,
     "metadata": {},
     "output_type": "execute_result"
    }
   ],
   "source": [
    "# creating encoded label of job_category in new column\n",
    "df['category_id'] = df['job_category'].factorize()[0]\n",
    "category_id_df = df[['job_category', 'category_id']].drop_duplicates().sort_values('category_id')\n",
    "category_to_id = dict(category_id_df.values)\n",
    "id_to_category = dict(category_id_df[['category_id', 'job_category']].values)\n",
    "df.head()"
   ]
  },
  {
   "cell_type": "code",
   "execution_count": 25,
   "metadata": {},
   "outputs": [
    {
     "data": {
      "image/png": "[encoded data removed]",
      "text/plain": [
       "<Figure size 576x432 with 1 Axes>"
      ]
     },
     "metadata": {
      "needs_background": "light"
     },
     "output_type": "display_data"
    }
   ],
   "source": [
    "# plotting frequency of job categories in the dataset\n",
    "fig = plt.figure(figsize=(8,6))\n",
    "df.groupby('job_category').perprocessed.count().plot.bar(ylim=0)\n",
    "plt.title('frequency of job categories in the dataset')\n",
    "plt.show()"
   ]
  },
  {
   "cell_type": "code",
   "execution_count": 27,
   "metadata": {},
   "outputs": [
    {
     "data": {
      "text/plain": [
       "(670, 549)"
      ]
     },
     "execution_count": 27,
     "metadata": {},
     "output_type": "execute_result"
    }
   ],
   "source": [
    "# making tfidf vector of the text in description column\n",
    "tfidf = TfidfVectorizer(sublinear_tf=True, min_df=5, norm='l2', encoding='latin-1', ngram_range=(1, 2), stop_words='english')\n",
    "features = tfidf.fit_transform(df.perprocessed).toarray()\n",
    "labels = df.category_id\n",
    "features.shape"
   ]
  },
  {
   "cell_type": "markdown",
   "metadata": {},
   "source": [
    "    670 descriptions explained by 549 features "
   ]
  },
  {
   "cell_type": "markdown",
   "metadata": {},
   "source": [
    "# Applying ML"
   ]
  },
  {
   "cell_type": "code",
   "execution_count": 29,
   "metadata": {},
   "outputs": [
    {
     "name": "stdout",
     "output_type": "stream",
     "text": [
      "# 'accountant':\n",
      "  . Most correlated unigrams:\n",
      ". accounting\n",
      ". tax\n",
      "  . Most correlated bigrams:\n",
      ". professional graduated\n",
      ". 11 years\n",
      "# 'advocate':\n",
      "  . Most correlated unigrams:\n",
      ". laws\n",
      ". legal\n",
      "  . Most correlated bigrams:\n",
      ". experience field\n",
      ". real estate\n",
      "# 'agricultural':\n",
      "  . Most correlated unigrams:\n",
      ". agriculture\n",
      ". agricultural\n",
      "  . Most correlated bigrams:\n",
      ". 20 years\n",
      ". experience field\n",
      "# 'apparel':\n",
      "  . Most correlated unigrams:\n",
      ". textile\n",
      ". apparel\n",
      "  . Most correlated bigrams:\n",
      ". team management\n",
      ". customer service\n",
      "# 'architects':\n",
      "  . Most correlated unigrams:\n",
      ". architects\n",
      ". architecture\n",
      "  . Most correlated bigrams:\n",
      ". experience field\n",
      ". currently working\n",
      "# 'arts':\n",
      "  . Most correlated unigrams:\n",
      ". art\n",
      ". arts\n",
      "  . Most correlated bigrams:\n",
      ". services industry\n",
      ". project management\n",
      "# 'automobile':\n",
      "  . Most correlated unigrams:\n",
      ". largest\n",
      ". automobile\n",
      "  . Most correlated bigrams:\n",
      ". mechanical engineering\n",
      ". vice president\n",
      "# 'aviation':\n",
      "  . Most correlated unigrams:\n",
      ". ideas\n",
      ". aviation\n",
      "  . Most correlated bigrams:\n",
      ". strong engineering\n",
      ". operations management\n",
      "# 'banking':\n",
      "  . Most correlated unigrams:\n",
      ". risk\n",
      ". banking\n",
      "  . Most correlated bigrams:\n",
      ". years rich\n",
      ". risk management\n",
      "# 'bpo':\n",
      "  . Most correlated unigrams:\n",
      ". center\n",
      ". bpo\n",
      "  . Most correlated bigrams:\n",
      ". services industry\n",
      ". 25 years\n",
      "# 'building & construction':\n",
      "  . Most correlated unigrams:\n",
      ". buildings\n",
      ". construction\n",
      "  . Most correlated bigrams:\n",
      ". years rich\n",
      ". building construction\n",
      "# 'business development':\n",
      "  . Most correlated unigrams:\n",
      ". business\n",
      ". development\n",
      "  . Most correlated bigrams:\n",
      ". sales business\n",
      ". business development\n",
      "# 'consultant':\n",
      "  . Most correlated unigrams:\n",
      ". consultants\n",
      ". consultant\n",
      "  . Most correlated bigrams:\n",
      ". 25 years\n",
      ". professional 20\n",
      "# 'designing':\n",
      "  . Most correlated unigrams:\n",
      ". interior\n",
      ". design\n",
      "  . Most correlated bigrams:\n",
      ". working computer\n",
      ". design professional\n",
      "# 'digital media':\n",
      "  . Most correlated unigrams:\n",
      ". media\n",
      ". digital\n",
      "  . Most correlated bigrams:\n",
      ". digital media\n",
      ". digital marketing\n",
      "# 'education':\n",
      "  . Most correlated unigrams:\n",
      ". applications\n",
      ". education\n",
      "  . Most correlated bigrams:\n",
      ". higher education\n",
      ". degree focused\n",
      "# 'engineering':\n",
      "  . Most correlated unigrams:\n",
      ". water\n",
      ". engineering\n",
      "  . Most correlated bigrams:\n",
      ". experienced head\n",
      ". mechanical engineering\n",
      "# 'finance':\n",
      "  . Most correlated unigrams:\n",
      ". department\n",
      ". finance\n",
      "  . Most correlated bigrams:\n",
      ". strategic planning\n",
      ". financial services\n",
      "# 'food & beverages':\n",
      "  . Most correlated unigrams:\n",
      ". beverage\n",
      ". food\n",
      "  . Most correlated bigrams:\n",
      ". hospitality industry\n",
      ". food beverage\n",
      "# 'health & fitness':\n",
      "  . Most correlated unigrams:\n",
      ". health\n",
      ". fitness\n",
      "  . Most correlated bigrams:\n",
      ". personal trainer\n",
      ". health fitness\n",
      "# 'hr':\n",
      "  . Most correlated unigrams:\n",
      ". talent\n",
      ". hr\n",
      "  . Most correlated bigrams:\n",
      ". talent acquisition\n",
      ". hr professional\n",
      "# 'information technology':\n",
      "  . Most correlated unigrams:\n",
      ". security\n",
      ". information\n",
      "  . Most correlated bigrams:\n",
      ". team work\n",
      ". information technology\n",
      "# 'managment':\n",
      "  . Most correlated unigrams:\n",
      ". potential\n",
      ". teaching\n",
      "  . Most correlated bigrams:\n",
      ". customer service\n",
      ". talent management\n",
      "# 'public relations':\n",
      "  . Most correlated unigrams:\n",
      ". communications\n",
      ". relations\n",
      "  . Most correlated bigrams:\n",
      ". corporate communications\n",
      ". public relations\n",
      "# 'sales':\n",
      "  . Most correlated unigrams:\n",
      ". keen\n",
      ". sales\n",
      "  . Most correlated bigrams:\n",
      ". marketing sales\n",
      ". sales marketing\n"
     ]
    }
   ],
   "source": [
    "# findning out most common features of different categories\n",
    "from sklearn.feature_selection import chi2\n",
    "import numpy as np\n",
    "N = 2\n",
    "for perprocessed, category_id in sorted(category_to_id.items()):\n",
    "    features_chi2 = chi2(features, labels == category_id)\n",
    "    indices = np.argsort(features_chi2[0])\n",
    "    feature_names = np.array(tfidf.get_feature_names())[indices]\n",
    "    unigrams = [v for v in feature_names if len(v.split(' ')) == 1]\n",
    "    bigrams = [v for v in feature_names if len(v.split(' ')) == 2]\n",
    "    print(\"# '{}':\".format(perprocessed))\n",
    "    print(\"  . Most correlated unigrams:\\n. {}\".format('\\n. '.join(unigrams[-N:])))\n",
    "    print(\"  . Most correlated bigrams:\\n. {}\".format('\\n. '.join(bigrams[-N:])))"
   ]
  },
  {
   "cell_type": "code",
   "execution_count": 31,
   "metadata": {},
   "outputs": [],
   "source": [
    "# creating wrd vector and model for prediction\n",
    "X_train, X_test, y_train, y_test = train_test_split(df['perprocessed'], df['job_category'], random_state = 0,stratify = df['job_category'],test_size=0.2)\n",
    "count_vect = CountVectorizer()\n",
    "X_train_counts = count_vect.fit_transform(X_train)\n",
    "tfidf_transformer = TfidfTransformer()\n",
    "X_train_tfidf = tfidf_transformer.fit_transform(X_train_counts)\n",
    "clf = MultinomialNB().fit(X_train_tfidf, y_train)"
   ]
  },
  {
   "cell_type": "code",
   "execution_count": 32,
   "metadata": {},
   "outputs": [
    {
     "name": "stdout",
     "output_type": "stream",
     "text": [
      "['hr']\n"
     ]
    }
   ],
   "source": [
    "# checking model prediction in data\n",
    "print(clf.predict(count_vect.transform([\"head talent acquisition hr leader strategic partner business leadership team areas people processand structure worked best it services product organizations see\"])))"
   ]
  },
  {
   "cell_type": "code",
   "execution_count": 34,
   "metadata": {},
   "outputs": [
    {
     "data": {
      "text/html": [
       "<div>\n",
       "<style scoped>\n",
       "    .dataframe tbody tr th:only-of-type {\n",
       "        vertical-align: middle;\n",
       "    }\n",
       "\n",
       "    .dataframe tbody tr th {\n",
       "        vertical-align: top;\n",
       "    }\n",
       "\n",
       "    .dataframe thead th {\n",
       "        text-align: right;\n",
       "    }\n",
       "</style>\n",
       "<table border=\"1\" class=\"dataframe\">\n",
       "  <thead>\n",
       "    <tr style=\"text-align: right;\">\n",
       "      <th></th>\n",
       "      <th>perprocessed</th>\n",
       "      <th>job_category</th>\n",
       "      <th>category_id</th>\n",
       "    </tr>\n",
       "  </thead>\n",
       "  <tbody>\n",
       "    <tr>\n",
       "      <td>1</td>\n",
       "      <td>head talent acquisition hr leader strategic pa...</td>\n",
       "      <td>hr</td>\n",
       "      <td>0</td>\n",
       "    </tr>\n",
       "  </tbody>\n",
       "</table>\n",
       "</div>"
      ],
      "text/plain": [
       "                                        perprocessed job_category  category_id\n",
       "1  head talent acquisition hr leader strategic pa...           hr            0"
      ]
     },
     "execution_count": 34,
     "metadata": {},
     "output_type": "execute_result"
    }
   ],
   "source": [
    "df[df['perprocessed'] == \"head talent acquisition hr leader strategic partner business leadership team areas people processand structure worked best it services product organizations see\"]"
   ]
  },
  {
   "cell_type": "code",
   "execution_count": 36,
   "metadata": {},
   "outputs": [
    {
     "name": "stdout",
     "output_type": "stream",
     "text": [
      "0.8731343283582089\n"
     ]
    }
   ],
   "source": [
    "# training accuracy of the model\n",
    "print(accuracy_score(y_train,clf.predict(X_train_tfidf)))"
   ]
  },
  {
   "cell_type": "code",
   "execution_count": 37,
   "metadata": {},
   "outputs": [
    {
     "name": "stdout",
     "output_type": "stream",
     "text": [
      "0.4552238805970149\n"
     ]
    }
   ],
   "source": [
    "# testing accuracy of the model\n",
    "print(accuracy_score(y_test,clf.predict(count_vect.transform(X_test))))"
   ]
  },
  {
   "cell_type": "code",
   "execution_count": 40,
   "metadata": {},
   "outputs": [
    {
     "name": "stderr",
     "output_type": "stream",
     "text": [
      "C:\\Users\\dhank\\AppData\\Roaming\\Python\\Python37\\site-packages\\sklearn\\neural_network\\_multilayer_perceptron.py:571: ConvergenceWarning: Stochastic Optimizer: Maximum iterations (200) reached and the optimization hasn't converged yet.\n",
      "  % self.max_iter, ConvergenceWarning)\n",
      "C:\\Users\\dhank\\AppData\\Roaming\\Python\\Python37\\site-packages\\sklearn\\neural_network\\_multilayer_perceptron.py:571: ConvergenceWarning: Stochastic Optimizer: Maximum iterations (200) reached and the optimization hasn't converged yet.\n",
      "  % self.max_iter, ConvergenceWarning)\n",
      "C:\\Users\\dhank\\AppData\\Roaming\\Python\\Python37\\site-packages\\sklearn\\neural_network\\_multilayer_perceptron.py:571: ConvergenceWarning: Stochastic Optimizer: Maximum iterations (200) reached and the optimization hasn't converged yet.\n",
      "  % self.max_iter, ConvergenceWarning)\n",
      "C:\\Users\\dhank\\AppData\\Roaming\\Python\\Python37\\site-packages\\sklearn\\neural_network\\_multilayer_perceptron.py:571: ConvergenceWarning: Stochastic Optimizer: Maximum iterations (200) reached and the optimization hasn't converged yet.\n",
      "  % self.max_iter, ConvergenceWarning)\n",
      "C:\\Users\\dhank\\AppData\\Roaming\\Python\\Python37\\site-packages\\sklearn\\neural_network\\_multilayer_perceptron.py:571: ConvergenceWarning: Stochastic Optimizer: Maximum iterations (200) reached and the optimization hasn't converged yet.\n",
      "  % self.max_iter, ConvergenceWarning)\n"
     ]
    },
    {
     "data": {
      "image/png": "[encoded data removed]",
      "text/plain": [
       "<Figure size 432x288 with 1 Axes>"
      ]
     },
     "metadata": {
      "needs_background": "light"
     },
     "output_type": "display_data"
    }
   ],
   "source": [
    "# testing some more models\n",
    "CV = StratifiedKFold(n_splits=5)\n",
    "models = [\n",
    "    RandomForestClassifier(n_estimators=200, max_depth=3, random_state=0),\n",
    "    LinearSVC(),\n",
    "    MultinomialNB(),\n",
    "    LogisticRegression(random_state=0),\n",
    "    SVC(),\n",
    "    KNeighborsClassifier(),\n",
    "    GaussianNB(),\n",
    "    DecisionTreeClassifier(),\n",
    "    SGDClassifier(),\n",
    "    MLPClassifier(),\n",
    "    GaussianProcessClassifier()\n",
    "]\n",
    "#CV = 5\n",
    "cv_df = pd.DataFrame(index=range(5 * len(models)))\n",
    "entries = []\n",
    "for model in models:\n",
    "    model_name = model.__class__.__name__\n",
    "    accuracies = cross_val_score(model, features, labels, scoring='accuracy', cv=CV,)\n",
    "    for fold_idx, accuracy in enumerate(accuracies):\n",
    "        entries.append((model_name, fold_idx, accuracy))\n",
    "cv_df = pd.DataFrame(entries, columns=['model_name', 'fold_idx', 'accuracy'])\n",
    "import seaborn as sns\n",
    "sns.boxplot(x='model_name', y='accuracy', data=cv_df)\n",
    "sns.stripplot(x='model_name', y='accuracy', data=cv_df, \n",
    "              size=8, jitter=True, edgecolor=\"gray\", linewidth=2)\n",
    "plt.xticks(rotation=90)\n",
    "plt.show()"
   ]
  },
  {
   "cell_type": "code",
   "execution_count": 41,
   "metadata": {},
   "outputs": [
    {
     "data": {
      "text/html": [
       "<div>\n",
       "<style scoped>\n",
       "    .dataframe tbody tr th:only-of-type {\n",
       "        vertical-align: middle;\n",
       "    }\n",
       "\n",
       "    .dataframe tbody tr th {\n",
       "        vertical-align: top;\n",
       "    }\n",
       "\n",
       "    .dataframe thead th {\n",
       "        text-align: right;\n",
       "    }\n",
       "</style>\n",
       "<table border=\"1\" class=\"dataframe\">\n",
       "  <thead>\n",
       "    <tr style=\"text-align: right;\">\n",
       "      <th></th>\n",
       "      <th>model_name</th>\n",
       "      <th>fold_idx</th>\n",
       "      <th>accuracy</th>\n",
       "    </tr>\n",
       "  </thead>\n",
       "  <tbody>\n",
       "    <tr>\n",
       "      <td>0</td>\n",
       "      <td>RandomForestClassifier</td>\n",
       "      <td>0</td>\n",
       "      <td>0.432836</td>\n",
       "    </tr>\n",
       "    <tr>\n",
       "      <td>1</td>\n",
       "      <td>RandomForestClassifier</td>\n",
       "      <td>1</td>\n",
       "      <td>0.447761</td>\n",
       "    </tr>\n",
       "    <tr>\n",
       "      <td>2</td>\n",
       "      <td>RandomForestClassifier</td>\n",
       "      <td>2</td>\n",
       "      <td>0.447761</td>\n",
       "    </tr>\n",
       "    <tr>\n",
       "      <td>3</td>\n",
       "      <td>RandomForestClassifier</td>\n",
       "      <td>3</td>\n",
       "      <td>0.328358</td>\n",
       "    </tr>\n",
       "    <tr>\n",
       "      <td>4</td>\n",
       "      <td>RandomForestClassifier</td>\n",
       "      <td>4</td>\n",
       "      <td>0.402985</td>\n",
       "    </tr>\n",
       "    <tr>\n",
       "      <td>5</td>\n",
       "      <td>LinearSVC</td>\n",
       "      <td>0</td>\n",
       "      <td>0.559701</td>\n",
       "    </tr>\n",
       "    <tr>\n",
       "      <td>6</td>\n",
       "      <td>LinearSVC</td>\n",
       "      <td>1</td>\n",
       "      <td>0.574627</td>\n",
       "    </tr>\n",
       "    <tr>\n",
       "      <td>7</td>\n",
       "      <td>LinearSVC</td>\n",
       "      <td>2</td>\n",
       "      <td>0.559701</td>\n",
       "    </tr>\n",
       "    <tr>\n",
       "      <td>8</td>\n",
       "      <td>LinearSVC</td>\n",
       "      <td>3</td>\n",
       "      <td>0.470149</td>\n",
       "    </tr>\n",
       "    <tr>\n",
       "      <td>9</td>\n",
       "      <td>LinearSVC</td>\n",
       "      <td>4</td>\n",
       "      <td>0.500000</td>\n",
       "    </tr>\n",
       "    <tr>\n",
       "      <td>10</td>\n",
       "      <td>MultinomialNB</td>\n",
       "      <td>0</td>\n",
       "      <td>0.492537</td>\n",
       "    </tr>\n",
       "    <tr>\n",
       "      <td>11</td>\n",
       "      <td>MultinomialNB</td>\n",
       "      <td>1</td>\n",
       "      <td>0.470149</td>\n",
       "    </tr>\n",
       "    <tr>\n",
       "      <td>12</td>\n",
       "      <td>MultinomialNB</td>\n",
       "      <td>2</td>\n",
       "      <td>0.447761</td>\n",
       "    </tr>\n",
       "    <tr>\n",
       "      <td>13</td>\n",
       "      <td>MultinomialNB</td>\n",
       "      <td>3</td>\n",
       "      <td>0.425373</td>\n",
       "    </tr>\n",
       "    <tr>\n",
       "      <td>14</td>\n",
       "      <td>MultinomialNB</td>\n",
       "      <td>4</td>\n",
       "      <td>0.440299</td>\n",
       "    </tr>\n",
       "    <tr>\n",
       "      <td>15</td>\n",
       "      <td>LogisticRegression</td>\n",
       "      <td>0</td>\n",
       "      <td>0.537313</td>\n",
       "    </tr>\n",
       "    <tr>\n",
       "      <td>16</td>\n",
       "      <td>LogisticRegression</td>\n",
       "      <td>1</td>\n",
       "      <td>0.559701</td>\n",
       "    </tr>\n",
       "    <tr>\n",
       "      <td>17</td>\n",
       "      <td>LogisticRegression</td>\n",
       "      <td>2</td>\n",
       "      <td>0.537313</td>\n",
       "    </tr>\n",
       "    <tr>\n",
       "      <td>18</td>\n",
       "      <td>LogisticRegression</td>\n",
       "      <td>3</td>\n",
       "      <td>0.500000</td>\n",
       "    </tr>\n",
       "    <tr>\n",
       "      <td>19</td>\n",
       "      <td>LogisticRegression</td>\n",
       "      <td>4</td>\n",
       "      <td>0.514925</td>\n",
       "    </tr>\n",
       "    <tr>\n",
       "      <td>20</td>\n",
       "      <td>SVC</td>\n",
       "      <td>0</td>\n",
       "      <td>0.544776</td>\n",
       "    </tr>\n",
       "    <tr>\n",
       "      <td>21</td>\n",
       "      <td>SVC</td>\n",
       "      <td>1</td>\n",
       "      <td>0.485075</td>\n",
       "    </tr>\n",
       "    <tr>\n",
       "      <td>22</td>\n",
       "      <td>SVC</td>\n",
       "      <td>2</td>\n",
       "      <td>0.492537</td>\n",
       "    </tr>\n",
       "    <tr>\n",
       "      <td>23</td>\n",
       "      <td>SVC</td>\n",
       "      <td>3</td>\n",
       "      <td>0.447761</td>\n",
       "    </tr>\n",
       "    <tr>\n",
       "      <td>24</td>\n",
       "      <td>SVC</td>\n",
       "      <td>4</td>\n",
       "      <td>0.447761</td>\n",
       "    </tr>\n",
       "    <tr>\n",
       "      <td>25</td>\n",
       "      <td>KNeighborsClassifier</td>\n",
       "      <td>0</td>\n",
       "      <td>0.179104</td>\n",
       "    </tr>\n",
       "    <tr>\n",
       "      <td>26</td>\n",
       "      <td>KNeighborsClassifier</td>\n",
       "      <td>1</td>\n",
       "      <td>0.111940</td>\n",
       "    </tr>\n",
       "    <tr>\n",
       "      <td>27</td>\n",
       "      <td>KNeighborsClassifier</td>\n",
       "      <td>2</td>\n",
       "      <td>0.194030</td>\n",
       "    </tr>\n",
       "    <tr>\n",
       "      <td>28</td>\n",
       "      <td>KNeighborsClassifier</td>\n",
       "      <td>3</td>\n",
       "      <td>0.119403</td>\n",
       "    </tr>\n",
       "    <tr>\n",
       "      <td>29</td>\n",
       "      <td>KNeighborsClassifier</td>\n",
       "      <td>4</td>\n",
       "      <td>0.134328</td>\n",
       "    </tr>\n",
       "    <tr>\n",
       "      <td>30</td>\n",
       "      <td>GaussianNB</td>\n",
       "      <td>0</td>\n",
       "      <td>0.402985</td>\n",
       "    </tr>\n",
       "    <tr>\n",
       "      <td>31</td>\n",
       "      <td>GaussianNB</td>\n",
       "      <td>1</td>\n",
       "      <td>0.410448</td>\n",
       "    </tr>\n",
       "    <tr>\n",
       "      <td>32</td>\n",
       "      <td>GaussianNB</td>\n",
       "      <td>2</td>\n",
       "      <td>0.395522</td>\n",
       "    </tr>\n",
       "    <tr>\n",
       "      <td>33</td>\n",
       "      <td>GaussianNB</td>\n",
       "      <td>3</td>\n",
       "      <td>0.305970</td>\n",
       "    </tr>\n",
       "    <tr>\n",
       "      <td>34</td>\n",
       "      <td>GaussianNB</td>\n",
       "      <td>4</td>\n",
       "      <td>0.305970</td>\n",
       "    </tr>\n",
       "    <tr>\n",
       "      <td>35</td>\n",
       "      <td>DecisionTreeClassifier</td>\n",
       "      <td>0</td>\n",
       "      <td>0.462687</td>\n",
       "    </tr>\n",
       "    <tr>\n",
       "      <td>36</td>\n",
       "      <td>DecisionTreeClassifier</td>\n",
       "      <td>1</td>\n",
       "      <td>0.552239</td>\n",
       "    </tr>\n",
       "    <tr>\n",
       "      <td>37</td>\n",
       "      <td>DecisionTreeClassifier</td>\n",
       "      <td>2</td>\n",
       "      <td>0.440299</td>\n",
       "    </tr>\n",
       "    <tr>\n",
       "      <td>38</td>\n",
       "      <td>DecisionTreeClassifier</td>\n",
       "      <td>3</td>\n",
       "      <td>0.380597</td>\n",
       "    </tr>\n",
       "    <tr>\n",
       "      <td>39</td>\n",
       "      <td>DecisionTreeClassifier</td>\n",
       "      <td>4</td>\n",
       "      <td>0.365672</td>\n",
       "    </tr>\n",
       "    <tr>\n",
       "      <td>40</td>\n",
       "      <td>SGDClassifier</td>\n",
       "      <td>0</td>\n",
       "      <td>0.522388</td>\n",
       "    </tr>\n",
       "    <tr>\n",
       "      <td>41</td>\n",
       "      <td>SGDClassifier</td>\n",
       "      <td>1</td>\n",
       "      <td>0.522388</td>\n",
       "    </tr>\n",
       "    <tr>\n",
       "      <td>42</td>\n",
       "      <td>SGDClassifier</td>\n",
       "      <td>2</td>\n",
       "      <td>0.447761</td>\n",
       "    </tr>\n",
       "    <tr>\n",
       "      <td>43</td>\n",
       "      <td>SGDClassifier</td>\n",
       "      <td>3</td>\n",
       "      <td>0.432836</td>\n",
       "    </tr>\n",
       "    <tr>\n",
       "      <td>44</td>\n",
       "      <td>SGDClassifier</td>\n",
       "      <td>4</td>\n",
       "      <td>0.462687</td>\n",
       "    </tr>\n",
       "    <tr>\n",
       "      <td>45</td>\n",
       "      <td>MLPClassifier</td>\n",
       "      <td>0</td>\n",
       "      <td>0.597015</td>\n",
       "    </tr>\n",
       "    <tr>\n",
       "      <td>46</td>\n",
       "      <td>MLPClassifier</td>\n",
       "      <td>1</td>\n",
       "      <td>0.567164</td>\n",
       "    </tr>\n",
       "    <tr>\n",
       "      <td>47</td>\n",
       "      <td>MLPClassifier</td>\n",
       "      <td>2</td>\n",
       "      <td>0.552239</td>\n",
       "    </tr>\n",
       "    <tr>\n",
       "      <td>48</td>\n",
       "      <td>MLPClassifier</td>\n",
       "      <td>3</td>\n",
       "      <td>0.447761</td>\n",
       "    </tr>\n",
       "    <tr>\n",
       "      <td>49</td>\n",
       "      <td>MLPClassifier</td>\n",
       "      <td>4</td>\n",
       "      <td>0.477612</td>\n",
       "    </tr>\n",
       "    <tr>\n",
       "      <td>50</td>\n",
       "      <td>GaussianProcessClassifier</td>\n",
       "      <td>0</td>\n",
       "      <td>0.529851</td>\n",
       "    </tr>\n",
       "    <tr>\n",
       "      <td>51</td>\n",
       "      <td>GaussianProcessClassifier</td>\n",
       "      <td>1</td>\n",
       "      <td>0.522388</td>\n",
       "    </tr>\n",
       "    <tr>\n",
       "      <td>52</td>\n",
       "      <td>GaussianProcessClassifier</td>\n",
       "      <td>2</td>\n",
       "      <td>0.522388</td>\n",
       "    </tr>\n",
       "    <tr>\n",
       "      <td>53</td>\n",
       "      <td>GaussianProcessClassifier</td>\n",
       "      <td>3</td>\n",
       "      <td>0.455224</td>\n",
       "    </tr>\n",
       "    <tr>\n",
       "      <td>54</td>\n",
       "      <td>GaussianProcessClassifier</td>\n",
       "      <td>4</td>\n",
       "      <td>0.477612</td>\n",
       "    </tr>\n",
       "  </tbody>\n",
       "</table>\n",
       "</div>"
      ],
      "text/plain": [
       "                   model_name  fold_idx  accuracy\n",
       "0      RandomForestClassifier         0  0.432836\n",
       "1      RandomForestClassifier         1  0.447761\n",
       "2      RandomForestClassifier         2  0.447761\n",
       "3      RandomForestClassifier         3  0.328358\n",
       "4      RandomForestClassifier         4  0.402985\n",
       "5                   LinearSVC         0  0.559701\n",
       "6                   LinearSVC         1  0.574627\n",
       "7                   LinearSVC         2  0.559701\n",
       "8                   LinearSVC         3  0.470149\n",
       "9                   LinearSVC         4  0.500000\n",
       "10              MultinomialNB         0  0.492537\n",
       "11              MultinomialNB         1  0.470149\n",
       "12              MultinomialNB         2  0.447761\n",
       "13              MultinomialNB         3  0.425373\n",
       "14              MultinomialNB         4  0.440299\n",
       "15         LogisticRegression         0  0.537313\n",
       "16         LogisticRegression         1  0.559701\n",
       "17         LogisticRegression         2  0.537313\n",
       "18         LogisticRegression         3  0.500000\n",
       "19         LogisticRegression         4  0.514925\n",
       "20                        SVC         0  0.544776\n",
       "21                        SVC         1  0.485075\n",
       "22                        SVC         2  0.492537\n",
       "23                        SVC         3  0.447761\n",
       "24                        SVC         4  0.447761\n",
       "25       KNeighborsClassifier         0  0.179104\n",
       "26       KNeighborsClassifier         1  0.111940\n",
       "27       KNeighborsClassifier         2  0.194030\n",
       "28       KNeighborsClassifier         3  0.119403\n",
       "29       KNeighborsClassifier         4  0.134328\n",
       "30                 GaussianNB         0  0.402985\n",
       "31                 GaussianNB         1  0.410448\n",
       "32                 GaussianNB         2  0.395522\n",
       "33                 GaussianNB         3  0.305970\n",
       "34                 GaussianNB         4  0.305970\n",
       "35     DecisionTreeClassifier         0  0.462687\n",
       "36     DecisionTreeClassifier         1  0.552239\n",
       "37     DecisionTreeClassifier         2  0.440299\n",
       "38     DecisionTreeClassifier         3  0.380597\n",
       "39     DecisionTreeClassifier         4  0.365672\n",
       "40              SGDClassifier         0  0.522388\n",
       "41              SGDClassifier         1  0.522388\n",
       "42              SGDClassifier         2  0.447761\n",
       "43              SGDClassifier         3  0.432836\n",
       "44              SGDClassifier         4  0.462687\n",
       "45              MLPClassifier         0  0.597015\n",
       "46              MLPClassifier         1  0.567164\n",
       "47              MLPClassifier         2  0.552239\n",
       "48              MLPClassifier         3  0.447761\n",
       "49              MLPClassifier         4  0.477612\n",
       "50  GaussianProcessClassifier         0  0.529851\n",
       "51  GaussianProcessClassifier         1  0.522388\n",
       "52  GaussianProcessClassifier         2  0.522388\n",
       "53  GaussianProcessClassifier         3  0.455224\n",
       "54  GaussianProcessClassifier         4  0.477612"
      ]
     },
     "execution_count": 41,
     "metadata": {},
     "output_type": "execute_result"
    }
   ],
   "source": [
    "# dataframe of model's testing accuracies\n",
    "cv_df"
   ]
  }
 ],
 "metadata": {
  "kernelspec": {
   "display_name": "Python 3",
   "language": "python",
   "name": "python3"
  },
  "language_info": {
   "codemirror_mode": {
    "name": "ipython",
    "version": 3
   },
   "file_extension": ".py",
   "mimetype": "text/x-python",
   "name": "python",
   "nbconvert_exporter": "python",
   "pygments_lexer": "ipython3",
   "version": "3.7.4"
  },
  "toc": {
   "base_numbering": 1,
   "nav_menu": {},
   "number_sections": true,
   "sideBar": true,
   "skip_h1_title": false,
   "title_cell": "Table of Contents",
   "title_sidebar": "Contents",
   "toc_cell": false,
   "toc_position": {},
   "toc_section_display": true,
   "toc_window_display": false
  }
 },
 "nbformat": 4,
 "nbformat_minor": 2
}
